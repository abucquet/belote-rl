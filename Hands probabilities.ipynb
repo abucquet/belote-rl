{
 "cells": [
  {
   "cell_type": "code",
   "execution_count": 9,
   "id": "cd27138e",
   "metadata": {},
   "outputs": [],
   "source": [
    "from scipy.special import binom\n",
    "from tqdm import tqdm\n",
    "\n",
    "from card_elements import Deck, Card\n",
    "from belote import DECK, VALUES"
   ]
  },
  {
   "cell_type": "markdown",
   "id": "06db554d",
   "metadata": {},
   "source": [
    "## Probability of a four-of a kind for one player"
   ]
  },
  {
   "cell_type": "code",
   "execution_count": 13,
   "id": "18b76ed5",
   "metadata": {},
   "outputs": [
    {
     "name": "stderr",
     "output_type": "stream",
     "text": [
      "100%|██████████| 10000/10000 [00:00<00:00, 23775.21it/s]"
     ]
    },
    {
     "name": "stdout",
     "output_type": "stream",
     "text": [
      "0.015570196704790698 0.0131\n"
     ]
    },
    {
     "name": "stderr",
     "output_type": "stream",
     "text": [
      "\n"
     ]
    }
   ],
   "source": [
    "# based on dealing hands of four cards\n",
    "exact = (8 * binom(28, 4) - 8*7/2) / binom(32, 8)\n",
    "\n",
    "simulated = 0\n",
    "B = 10000\n",
    "for _ in tqdm(range(B)):\n",
    "    DECK.shuffle()\n",
    "    hand = DECK.deal(4)[0]\n",
    "    count_values = {v : 0 for v in VALUES}\n",
    "    for card in hand:\n",
    "        count_values[card.value] += 1\n",
    "    \n",
    "    if sum([count == 4 for value, count in count_values.items()]) == 1:\n",
    "        simulated += 1\n",
    "        \n",
    "print(exact, simulated / B)"
   ]
  },
  {
   "cell_type": "code",
   "execution_count": 14,
   "id": "ea31dae7",
   "metadata": {},
   "outputs": [
    {
     "name": "stderr",
     "output_type": "stream",
     "text": [
      "100%|██████████| 10000/10000 [00:00<00:00, 25051.16it/s]"
     ]
    },
    {
     "name": "stdout",
     "output_type": "stream",
     "text": [
      "0.0209\n"
     ]
    },
    {
     "name": "stderr",
     "output_type": "stream",
     "text": [
      "\n"
     ]
    }
   ],
   "source": [
    "# based on the rules of belote, in which players get 5 cards, one is flipped on the middle, \n",
    "# and they can choos to take it or not before getting 3 (or 2) more cards\n",
    "# this code assume that players will take the middle card if they have a pair or more of the same value\n",
    "simulated = 0\n",
    "B = 10000\n",
    "for _ in tqdm(range(B)):\n",
    "    DECK.shuffle()\n",
    "    hand = DECK.cards[:5]\n",
    "    card_in_middle = DECK.cards[5]\n",
    "    \n",
    "    number_in_hand = 0\n",
    "    for card in hand:\n",
    "        if card.value == card_in_middle.value: number_in_hand += 1\n",
    "    \n",
    "    if number_in_hand >= 2:\n",
    "        hand.append(card_in_middle)\n",
    "        hand.extend(DECK.cards[6:8])\n",
    "    else:\n",
    "        hand.extend(DECK.cards[6:9])\n",
    "    \n",
    "    count_values = {v : 0 for v in VALUES}\n",
    "    for card in hand:\n",
    "        count_values[card.value] += 1\n",
    "    \n",
    "    if sum([count == 4 for value, count in count_values.items()]) == 1:\n",
    "        simulated += 1\n",
    "        \n",
    "print(simulated / B)"
   ]
  },
  {
   "cell_type": "markdown",
   "id": "6074dc5a",
   "metadata": {},
   "source": [
    "## Probability than one of four player has a 4 of a kind"
   ]
  },
  {
   "cell_type": "code",
   "execution_count": 15,
   "id": "7653c1f5",
   "metadata": {},
   "outputs": [
    {
     "name": "stderr",
     "output_type": "stream",
     "text": [
      "100%|██████████| 10000/10000 [00:00<00:00, 19102.78it/s]"
     ]
    },
    {
     "name": "stdout",
     "output_type": "stream",
     "text": [
      "0.0601\n"
     ]
    },
    {
     "name": "stderr",
     "output_type": "stream",
     "text": [
      "\n"
     ]
    }
   ],
   "source": [
    "# based on dealing hands of four cards\n",
    "simulated = 0\n",
    "B = 10000\n",
    "for _ in tqdm(range(B)):\n",
    "    DECK.shuffle()\n",
    "    hands = DECK.deal(4)\n",
    "    \n",
    "    for hand in hands:\n",
    "        count_values = {v : 0 for v in VALUES}\n",
    "        for card in hand:\n",
    "            count_values[card.value] += 1\n",
    "\n",
    "        if sum([count == 4 for value, count in count_values.items()]) == 1:\n",
    "            simulated += 1\n",
    "            break\n",
    "        \n",
    "print(simulated / B)"
   ]
  },
  {
   "cell_type": "code",
   "execution_count": 16,
   "id": "5a8a8e82",
   "metadata": {},
   "outputs": [
    {
     "name": "stderr",
     "output_type": "stream",
     "text": [
      "100%|██████████| 10000/10000 [00:00<00:00, 15652.15it/s]"
     ]
    },
    {
     "name": "stdout",
     "output_type": "stream",
     "text": [
      "0.0791\n"
     ]
    },
    {
     "name": "stderr",
     "output_type": "stream",
     "text": [
      "\n"
     ]
    }
   ],
   "source": [
    "# based on the rules of belote, in which players get 5 cards, one is flipped on the middle, \n",
    "# and they can choos to take it or not before getting 3 (or 2) more cards\n",
    "# this code assume that players will take the middle card if they have a pair or more of the same value\n",
    "simulated = 0\n",
    "B = 10000\n",
    "for _ in tqdm(range(B)):\n",
    "    DECK.shuffle()\n",
    "    hands = [DECK.cards[:5], DECK.cards[5:10], DECK.cards[10:15], DECK.cards[15:20]]\n",
    "    card_in_middle = DECK.cards[20]\n",
    "    \n",
    "    # find who gets the card, if not the middle person\n",
    "    gets_middle = 0\n",
    "    for i, hand in enumerate(hands):\n",
    "        number_in_hand = 0\n",
    "        for card in hand:\n",
    "            if card.value == card_in_middle.value: number_in_hand += 1\n",
    "\n",
    "        if number_in_hand >= 2:\n",
    "            gets_middle = i\n",
    "            break\n",
    "    \n",
    "    for i, hand in enumerate(hands):\n",
    "        if i < gets_middle:\n",
    "            hand.extend(DECK.cards[21 + i*3 : 21 + (i+1)*3])\n",
    "        elif i == gets_middle:\n",
    "            hand.append(card_in_middle)\n",
    "            hand.extend(DECK.cards[21 + i*3 : 21 + (i+1)*3 - 1])\n",
    "        else:\n",
    "            hand.extend(DECK.cards[20 + i*3 : 20 + (i+1)*3])\n",
    "    \n",
    "    for hand in hands:\n",
    "        count_values = {v : 0 for v in VALUES}\n",
    "        for card in hand:\n",
    "            count_values[card.value] += 1\n",
    "\n",
    "        if sum([count == 4 for value, count in count_values.items()]) == 1:\n",
    "            simulated += 1\n",
    "            break\n",
    "        \n",
    "print(simulated / B)"
   ]
  },
  {
   "cell_type": "code",
   "execution_count": null,
   "id": "fa966368",
   "metadata": {},
   "outputs": [],
   "source": []
  }
 ],
 "metadata": {
  "kernelspec": {
   "display_name": "Python 3",
   "language": "python",
   "name": "python3"
  },
  "language_info": {
   "codemirror_mode": {
    "name": "ipython",
    "version": 3
   },
   "file_extension": ".py",
   "mimetype": "text/x-python",
   "name": "python",
   "nbconvert_exporter": "python",
   "pygments_lexer": "ipython3",
   "version": "3.7.4"
  }
 },
 "nbformat": 4,
 "nbformat_minor": 5
}
